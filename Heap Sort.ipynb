{
 "cells": [
  {
   "cell_type": "markdown",
   "id": "7f1f0324",
   "metadata": {},
   "source": [
    "# Heap Sort\n",
    "***\n"
   ]
  },
  {
   "cell_type": "markdown",
   "id": "2a9e3bc3",
   "metadata": {},
   "source": [
    "## Lists in Python\n",
    "***"
   ]
  },
  {
   "cell_type": "code",
   "execution_count": 1,
   "id": "b570af25",
   "metadata": {},
   "outputs": [],
   "source": [
    "# Lists Created with square brackets, start at index 0.\n",
    "DC = [\"D\",\"Y\",\"L\",\"A\",\"N\"]"
   ]
  },
  {
   "cell_type": "code",
   "execution_count": 2,
   "id": "aec18671",
   "metadata": {},
   "outputs": [
    {
     "data": {
      "text/plain": [
       "'Y'"
      ]
     },
     "execution_count": 2,
     "metadata": {},
     "output_type": "execute_result"
    }
   ],
   "source": [
    "DC[1]"
   ]
  },
  {
   "cell_type": "code",
   "execution_count": 3,
   "id": "ebc0b573",
   "metadata": {},
   "outputs": [
    {
     "data": {
      "text/plain": [
       "'D'"
      ]
     },
     "execution_count": 3,
     "metadata": {},
     "output_type": "execute_result"
    }
   ],
   "source": [
    "DC[0]"
   ]
  },
  {
   "cell_type": "code",
   "execution_count": 4,
   "id": "eb08bfa2",
   "metadata": {},
   "outputs": [
    {
     "data": {
      "text/plain": [
       "[1, 2, 3]"
      ]
     },
     "execution_count": 4,
     "metadata": {},
     "output_type": "execute_result"
    }
   ],
   "source": [
    "#Can create lists with list() function\n",
    "list({1,2,3})"
   ]
  },
  {
   "cell_type": "code",
   "execution_count": 5,
   "id": "512fe493",
   "metadata": {},
   "outputs": [
    {
     "data": {
      "text/plain": [
       "'A'"
      ]
     },
     "execution_count": 5,
     "metadata": {},
     "output_type": "execute_result"
    }
   ],
   "source": [
    "#Can have negative index of a python list, starts from the end and works backwards:\n",
    "DC[-2]"
   ]
  },
  {
   "cell_type": "code",
   "execution_count": 6,
   "id": "ceb6227c",
   "metadata": {},
   "outputs": [],
   "source": [
    "##Built in interables - More or less a for loop.\n",
    "K = list(range(1,50,2))"
   ]
  },
  {
   "cell_type": "code",
   "execution_count": 7,
   "id": "69b9aa54",
   "metadata": {},
   "outputs": [
    {
     "data": {
      "text/plain": [
       "[1,\n",
       " 3,\n",
       " 5,\n",
       " 7,\n",
       " 9,\n",
       " 11,\n",
       " 13,\n",
       " 15,\n",
       " 17,\n",
       " 19,\n",
       " 21,\n",
       " 23,\n",
       " 25,\n",
       " 27,\n",
       " 29,\n",
       " 31,\n",
       " 33,\n",
       " 35,\n",
       " 37,\n",
       " 39,\n",
       " 41,\n",
       " 43,\n",
       " 45,\n",
       " 47,\n",
       " 49]"
      ]
     },
     "execution_count": 7,
     "metadata": {},
     "output_type": "execute_result"
    }
   ],
   "source": [
    "K\n"
   ]
  },
  {
   "cell_type": "code",
   "execution_count": 8,
   "id": "c921d304",
   "metadata": {},
   "outputs": [
    {
     "data": {
      "text/plain": [
       "[3,\n",
       " 5,\n",
       " 7,\n",
       " 9,\n",
       " 11,\n",
       " 13,\n",
       " 15,\n",
       " 17,\n",
       " 19,\n",
       " 21,\n",
       " 23,\n",
       " 25,\n",
       " 27,\n",
       " 29,\n",
       " 31,\n",
       " 33,\n",
       " 35,\n",
       " 37,\n",
       " 39,\n",
       " 41,\n",
       " 43,\n",
       " 45,\n",
       " 47,\n",
       " 49,\n",
       " 1]"
      ]
     },
     "execution_count": 8,
     "metadata": {},
     "output_type": "execute_result"
    }
   ],
   "source": [
    "# Cycles list items to the righ\n",
    "K[1:] + K[:1]"
   ]
  },
  {
   "cell_type": "code",
   "execution_count": 9,
   "id": "9e42f0ae",
   "metadata": {},
   "outputs": [],
   "source": [
    "#Tuples - immutable.\n",
    "T = (1,2,3,4)"
   ]
  },
  {
   "cell_type": "code",
   "execution_count": 10,
   "id": "a232bd9d",
   "metadata": {},
   "outputs": [
    {
     "data": {
      "text/plain": [
       "2"
      ]
     },
     "execution_count": 10,
     "metadata": {},
     "output_type": "execute_result"
    }
   ],
   "source": [
    "T[1]"
   ]
  },
  {
   "cell_type": "code",
   "execution_count": 11,
   "id": "dd64c95e",
   "metadata": {},
   "outputs": [
    {
     "data": {
      "text/plain": [
       "(1, 2, 3, 4)"
      ]
     },
     "execution_count": 11,
     "metadata": {},
     "output_type": "execute_result"
    }
   ],
   "source": [
    "#Tuples are created with commas, instead of round brackets.\n",
    "T = 1,2,3,4\n",
    "T"
   ]
  },
  {
   "cell_type": "code",
   "execution_count": 12,
   "id": "99bb2342",
   "metadata": {},
   "outputs": [
    {
     "data": {
      "text/plain": [
       "590899387183067792"
      ]
     },
     "execution_count": 12,
     "metadata": {},
     "output_type": "execute_result"
    }
   ],
   "source": [
    "#Turns into a fixed length integer. Cannot hash lists!\n",
    "hash(T)"
   ]
  },
  {
   "cell_type": "code",
   "execution_count": 13,
   "id": "f3f585aa",
   "metadata": {},
   "outputs": [],
   "source": [
    "#Can use Tuples for assignment\n",
    "a,b = 3,4"
   ]
  },
  {
   "cell_type": "code",
   "execution_count": 14,
   "id": "2bf96ea8",
   "metadata": {},
   "outputs": [
    {
     "data": {
      "text/plain": [
       "3"
      ]
     },
     "execution_count": 14,
     "metadata": {},
     "output_type": "execute_result"
    }
   ],
   "source": [
    "a\n"
   ]
  },
  {
   "cell_type": "code",
   "execution_count": 15,
   "id": "475300fd",
   "metadata": {},
   "outputs": [
    {
     "data": {
      "text/plain": [
       "[1,\n",
       " 27,\n",
       " 125,\n",
       " 343,\n",
       " 729,\n",
       " 1331,\n",
       " 2197,\n",
       " 3375,\n",
       " 4913,\n",
       " 6859,\n",
       " 9261,\n",
       " 12167,\n",
       " 15625,\n",
       " 19683,\n",
       " 24389,\n",
       " 29791,\n",
       " 35937,\n",
       " 42875,\n",
       " 50653,\n",
       " 59319,\n",
       " 68921,\n",
       " 79507,\n",
       " 91125,\n",
       " 103823,\n",
       " 117649]"
      ]
     },
     "execution_count": 15,
     "metadata": {},
     "output_type": "execute_result"
    }
   ],
   "source": [
    "#List Comprehension - Cube each of the elements of the K list.\n",
    "[i**3 for i in K]"
   ]
  },
  {
   "cell_type": "markdown",
   "id": "00d6b620",
   "metadata": {},
   "source": [
    "<br>\n",
    "\n",
    "# Bubble Sort\n",
    "***"
   ]
  },
  {
   "cell_type": "code",
   "execution_count": 16,
   "id": "68ce3bdf",
   "metadata": {},
   "outputs": [],
   "source": [
    "import random"
   ]
  },
  {
   "cell_type": "code",
   "execution_count": 17,
   "id": "6d56f989",
   "metadata": {},
   "outputs": [
    {
     "data": {
      "text/plain": [
       "[1, 2, 3, 4, 5, 6, 7, 8, 9, 10]"
      ]
     },
     "execution_count": 17,
     "metadata": {},
     "output_type": "execute_result"
    }
   ],
   "source": [
    "#List of integers\n",
    "e = list(range(1,11))\n",
    "e"
   ]
  },
  {
   "cell_type": "code",
   "execution_count": 18,
   "id": "16427784",
   "metadata": {},
   "outputs": [
    {
     "data": {
      "text/plain": [
       "[9, 7, 1, 8, 5, 10, 6, 3, 4, 2]"
      ]
     },
     "execution_count": 18,
     "metadata": {},
     "output_type": "execute_result"
    }
   ],
   "source": [
    "#Shuffle List\n",
    "random.shuffle(e)\n",
    "e"
   ]
  },
  {
   "cell_type": "markdown",
   "id": "0dca6ef5",
   "metadata": {},
   "source": [
    "## What does Bubble Sort do?\n",
    "***"
   ]
  },
  {
   "cell_type": "markdown",
   "id": "72a39c87",
   "metadata": {},
   "source": [
    "<p>Bubble sort in a nutshell takes an unsorted list, and compares its adjacent values and adjusts their order, until the list has been sorted</p>\n",
    "<p>It takes two adjacent values, determines which value is bigger/smaller than the other, and moves them accordingly.</p>"
   ]
  },
  {
   "cell_type": "code",
   "execution_count": 19,
   "id": "f398041f",
   "metadata": {},
   "outputs": [],
   "source": [
    "##Bubble Sort Example\n",
    "\n",
    "no_comparisons = 0\n",
    "\n",
    "#Sorts for the length of the list times.\n",
    "for j in range(len(e)-1):\n",
    "    #Does the sorting Once.\n",
    "    for i in range(len(e)-1):\n",
    "        #Compare i th element  with the i+1th.\n",
    "        if e[i] > e[i+1]:\n",
    "        #Swap the elements\n",
    "            e[i], e[i+1] = e[i+1], e[i]\n",
    "        #Add Comparison\n",
    "        no_comparisons = no_comparisons + 1\n",
    "        "
   ]
  },
  {
   "cell_type": "code",
   "execution_count": 20,
   "id": "020ffc6a",
   "metadata": {},
   "outputs": [
    {
     "data": {
      "text/plain": [
       "81"
      ]
     },
     "execution_count": 20,
     "metadata": {},
     "output_type": "execute_result"
    }
   ],
   "source": [
    "e\n",
    "no_comparisons"
   ]
  },
  {
   "cell_type": "markdown",
   "id": "4b78e638",
   "metadata": {},
   "source": [
    "# Heap Sort Example\n",
    "****"
   ]
  },
  {
   "cell_type": "markdown",
   "id": "028ea3b6",
   "metadata": {},
   "source": [
    "### From Wiki\n",
    "***\n"
   ]
  },
  {
   "cell_type": "code",
   "execution_count": 21,
   "id": "64d3c080",
   "metadata": {},
   "outputs": [],
   "source": [
    "def heapify(a,count):\n",
    "    start = (count-2) // 2 #((count - (count%2)) / 2) - 1 # iParent(count-1)\n",
    "    #Uses floor division using the double forward slash\n",
    "    #For float division, use the usual /\n",
    "    \n",
    "    while start >= 0:\n",
    "        siftDown(a,start,count-1)\n",
    "        start = start-1\n",
    "        "
   ]
  },
  {
   "cell_type": "code",
   "execution_count": 22,
   "id": "ec4607ae",
   "metadata": {},
   "outputs": [],
   "source": [
    "def siftDown(a,start,end):\n",
    "    root = start\n",
    "    \n",
    "    while (2 * root + 1) <= end:\n",
    "        child = (2 * root + 1)\n",
    "        swap = root\n",
    "        \n",
    "        if a[swap] < a[child]:\n",
    "            swap = child\n",
    "        if child + 1 <= end and a[swap] < a[child + 1]:\n",
    "            swap = child + 1\n",
    "        if swap == root:\n",
    "            return\n",
    "        else:\n",
    "            a[root],a[swap] = a[swap], a[root]\n",
    "            root = swap"
   ]
  },
  {
   "cell_type": "code",
   "execution_count": 23,
   "id": "2fc86da8",
   "metadata": {},
   "outputs": [],
   "source": [
    "def heapsort(a):\n",
    "    count = len(a)\n",
    "    heapify(a,count)\n",
    "    end = count - 1\n",
    "    \n",
    "    while end > 0:\n",
    "        ##Swapping with Tuples.\n",
    "        a[0], a[end] = a[end],a[0]\n",
    "        end = end - 1\n",
    "        siftDown(a,0,end)"
   ]
  },
  {
   "cell_type": "code",
   "execution_count": 24,
   "id": "98544e08",
   "metadata": {},
   "outputs": [
    {
     "data": {
      "text/plain": [
       "[5, 1, 3, 7, 8, 9, 2]"
      ]
     },
     "execution_count": 24,
     "metadata": {},
     "output_type": "execute_result"
    }
   ],
   "source": [
    "L = [5,1,3,7,8,9,2]\n",
    "L\n"
   ]
  },
  {
   "cell_type": "code",
   "execution_count": 25,
   "id": "4a176d3c",
   "metadata": {},
   "outputs": [
    {
     "data": {
      "text/plain": [
       "[1, 2, 3, 5, 7, 8, 9]"
      ]
     },
     "execution_count": 25,
     "metadata": {},
     "output_type": "execute_result"
    }
   ],
   "source": [
    "heapsort(L)\n",
    "L"
   ]
  },
  {
   "cell_type": "markdown",
   "id": "a8d599d9",
   "metadata": {},
   "source": [
    "## Heap sort Explained.\n",
    "***"
   ]
  },
  {
   "cell_type": "markdown",
   "id": "fb64860d",
   "metadata": {},
   "source": [
    "<p>From my understanding so far of Heap Sort.How i think it works so far is that its quite similar to bubble sort.In that there are comparisons being made within a list of data.The parent element is compared to its children element and the data is moved bases on these comparisons.If the parent is less than a child, the two elements are swapped.Based on their values, they may be swapped to be the left child or the right child, to put things in a basic format. I dont quite understand fully ins and outs but hope to in coming weeks</p>"
   ]
  },
  {
   "cell_type": "markdown",
   "id": "24d5a319",
   "metadata": {},
   "source": [
    "## EOF"
   ]
  },
  {
   "cell_type": "code",
   "execution_count": null,
   "id": "99d7e1e2",
   "metadata": {},
   "outputs": [],
   "source": []
  },
  {
   "cell_type": "code",
   "execution_count": null,
   "id": "d83a0710",
   "metadata": {},
   "outputs": [],
   "source": []
  },
  {
   "cell_type": "code",
   "execution_count": null,
   "id": "65cb14df",
   "metadata": {},
   "outputs": [],
   "source": []
  },
  {
   "cell_type": "code",
   "execution_count": null,
   "id": "64802e22",
   "metadata": {},
   "outputs": [],
   "source": []
  },
  {
   "cell_type": "code",
   "execution_count": null,
   "id": "07c0edc6",
   "metadata": {},
   "outputs": [],
   "source": []
  },
  {
   "cell_type": "code",
   "execution_count": null,
   "id": "040c355a",
   "metadata": {},
   "outputs": [],
   "source": []
  },
  {
   "cell_type": "code",
   "execution_count": null,
   "id": "9239d374",
   "metadata": {},
   "outputs": [],
   "source": []
  },
  {
   "cell_type": "code",
   "execution_count": null,
   "id": "ac532b4a",
   "metadata": {},
   "outputs": [],
   "source": []
  }
 ],
 "metadata": {
  "kernelspec": {
   "display_name": "Python 3 (ipykernel)",
   "language": "python",
   "name": "python3"
  },
  "language_info": {
   "codemirror_mode": {
    "name": "ipython",
    "version": 3
   },
   "file_extension": ".py",
   "mimetype": "text/x-python",
   "name": "python",
   "nbconvert_exporter": "python",
   "pygments_lexer": "ipython3",
   "version": "3.9.7"
  }
 },
 "nbformat": 4,
 "nbformat_minor": 5
}
